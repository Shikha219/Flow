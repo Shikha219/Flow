{
 "cells": [
  {
   "cell_type": "code",
   "execution_count": 1,
   "id": "54543a24",
   "metadata": {},
   "outputs": [],
   "source": [
    "from collections import Counter\n",
    "import numpy as np\n",
    "import pandas as pd"
   ]
  },
  {
   "cell_type": "code",
   "execution_count": 2,
   "id": "270a4d83",
   "metadata": {},
   "outputs": [],
   "source": [
    "# Load the data\n",
    "\n",
    "data = pd.read_csv('dataset.csv', sep=',')\n",
    "pd.options.mode.chained_assignment = None\n",
    "len_data = len(data)"
   ]
  },
  {
   "cell_type": "code",
   "execution_count": 3,
   "id": "356ad0d5",
   "metadata": {},
   "outputs": [
    {
     "name": "stdout",
     "output_type": "stream",
     "text": [
      "-------------------------------\n",
      "<class 'pandas.core.frame.DataFrame'>\n",
      "RangeIndex: 1665 entries, 0 to 1664\n",
      "Data columns (total 80 columns):\n",
      " #   Column                      Non-Null Count  Dtype \n",
      "---  ------                      --------------  ----- \n",
      " 0   ClientID                    1665 non-null   object\n",
      " 1   CycleNumber                 1665 non-null   int64 \n",
      " 2   Group                       1665 non-null   int64 \n",
      " 3   CycleWithPeakorNot          1665 non-null   int64 \n",
      " 4   ReproductiveCategory        1665 non-null   int64 \n",
      " 5   LengthofCycle               1665 non-null   int64 \n",
      " 6   MeanCycleLength             1665 non-null   object\n",
      " 7   EstimatedDayofOvulation     1665 non-null   object\n",
      " 8   LengthofLutealPhase         1665 non-null   object\n",
      " 9   FirstDayofHigh              1665 non-null   object\n",
      " 10  TotalNumberofHighDays       1665 non-null   object\n",
      " 11  TotalHighPostPeak           1665 non-null   object\n",
      " 12  TotalNumberofPeakDays       1665 non-null   object\n",
      " 13  TotalDaysofFertility        1665 non-null   object\n",
      " 14  TotalFertilityFormula       1665 non-null   object\n",
      " 15  LengthofMenses              1665 non-null   object\n",
      " 16  MeanMensesLength            1665 non-null   object\n",
      " 17  MensesScoreDayOne           1665 non-null   object\n",
      " 18  MensesScoreDayTwo           1665 non-null   object\n",
      " 19  MensesScoreDayThree         1665 non-null   object\n",
      " 20  MensesScoreDayFour          1665 non-null   object\n",
      " 21  MensesScoreDayFive          1665 non-null   object\n",
      " 22  MensesScoreDaySix           1665 non-null   object\n",
      " 23  MensesScoreDaySeven         1665 non-null   object\n",
      " 24  MensesScoreDayEight         1665 non-null   object\n",
      " 25  MensesScoreDayNine          1665 non-null   object\n",
      " 26  MensesScoreDayTen           1665 non-null   object\n",
      " 27  MensesScoreDay11            1665 non-null   object\n",
      " 28  MensesScoreDay12            1665 non-null   object\n",
      " 29  MensesScoreDay13            1665 non-null   object\n",
      " 30  MensesScoreDay14            1665 non-null   object\n",
      " 31  MensesScoreDay15            1665 non-null   object\n",
      " 32  TotalMensesScore            1665 non-null   object\n",
      " 33  MeanBleedingIntensity       1665 non-null   object\n",
      " 34  NumberofDaysofIntercourse   1665 non-null   object\n",
      " 35  IntercourseInFertileWindow  1665 non-null   object\n",
      " 36  UnusualBleeding             1665 non-null   object\n",
      " 37  PhasesBleeding              1665 non-null   object\n",
      " 38  IntercourseDuringUnusBleed  1665 non-null   object\n",
      " 39  Age                         1665 non-null   object\n",
      " 40  AgeM                        1665 non-null   object\n",
      " 41  Maristatus                  1665 non-null   object\n",
      " 42  MaristatusM                 1665 non-null   object\n",
      " 43  Yearsmarried                1665 non-null   object\n",
      " 44  Wedding                     1665 non-null   object\n",
      " 45  Religion                    1665 non-null   object\n",
      " 46  ReligionM                   1665 non-null   object\n",
      " 47  Ethnicity                   1665 non-null   object\n",
      " 48  EthnicityM                  1665 non-null   object\n",
      " 49  Schoolyears                 1665 non-null   object\n",
      " 50  SchoolyearsM                1665 non-null   object\n",
      " 51  OccupationM                 1665 non-null   object\n",
      " 52  IncomeM                     1665 non-null   object\n",
      " 53  Height                      1665 non-null   object\n",
      " 54  Weight                      1665 non-null   object\n",
      " 55  Reprocate                   1665 non-null   object\n",
      " 56  Numberpreg                  1665 non-null   object\n",
      " 57  Livingkids                  1665 non-null   object\n",
      " 58  Miscarriages                1665 non-null   object\n",
      " 59  Abortions                   1665 non-null   object\n",
      " 60  Medvits                     1665 non-null   object\n",
      " 61  Medvitexplain               1665 non-null   object\n",
      " 62  Gynosurgeries               1665 non-null   object\n",
      " 63  LivingkidsM                 1665 non-null   object\n",
      " 64  Boys                        1665 non-null   object\n",
      " 65  Girls                       1665 non-null   object\n",
      " 66  MedvitsM                    1665 non-null   object\n",
      " 67  MedvitexplainM              1665 non-null   object\n",
      " 68  Urosurgeries                1665 non-null   object\n",
      " 69  Breastfeeding               1665 non-null   object\n",
      " 70  Method                      1665 non-null   object\n",
      " 71  Prevmethod                  1665 non-null   object\n",
      " 72  Methoddate                  1665 non-null   object\n",
      " 73  Whychart                    1665 non-null   object\n",
      " 74  Nextpreg                    1665 non-null   object\n",
      " 75  NextpregM                   1665 non-null   object\n",
      " 76  Spousesame                  1665 non-null   object\n",
      " 77  SpousesameM                 1665 non-null   object\n",
      " 78  Timeattemptpreg             1665 non-null   object\n",
      " 79  BMI                         1665 non-null   object\n",
      "dtypes: int64(5), object(75)\n",
      "memory usage: 1.0+ MB\n",
      "-------------------------------\n",
      "Count of records: 1665\n",
      "-------------------------------\n"
     ]
    }
   ],
   "source": [
    "# Show generic information\n",
    "\n",
    "print('-------------------------------')\n",
    "data.info()\n",
    "print('-------------------------------')\n",
    "print('Count of records: {}'.format(len_data))\n",
    "print('-------------------------------')"
   ]
  },
  {
   "cell_type": "code",
   "execution_count": 4,
   "id": "a05fcab3",
   "metadata": {},
   "outputs": [
    {
     "name": "stdout",
     "output_type": "stream",
     "text": [
      "Unique patients: 159\n",
      "Data row count per patient between 1 - 45\n"
     ]
    }
   ],
   "source": [
    "# +----------+\n",
    "# | Patients |\n",
    "# +----------+\n",
    "\n",
    "\n",
    "patient_data_row_counter = Counter()\n",
    "for id, row in data['ClientID'].iteritems():\n",
    "    patient_data_row_counter[row] += 1\n",
    "per_user_rows = sorted(set(patient_data_row_counter.values()))\n",
    "print('Unique patients: {}'.format(data['ClientID'].nunique()))\n",
    "print('Data row count per patient between {} - {}'.format(per_user_rows[0], per_user_rows[-1]))"
   ]
  },
  {
   "cell_type": "code",
   "execution_count": 5,
   "id": "dad1ac34",
   "metadata": {},
   "outputs": [
    {
     "name": "stdout",
     "output_type": "stream",
     "text": [
      "Cycle length between 18 - 54\n"
     ]
    }
   ],
   "source": [
    "# +--------------+\n",
    "# | Cycle length |\n",
    "# +--------------+\n",
    "\n",
    "print('Cycle length between {} - {}'.format(data['LengthofCycle'].min(), data['LengthofCycle'].max()))"
   ]
  },
  {
   "cell_type": "code",
   "execution_count": 6,
   "id": "ecb50096",
   "metadata": {},
   "outputs": [
    {
     "name": "stdout",
     "output_type": "stream",
     "text": [
      "Luteal phase length between 1 - 41 days.\n",
      "--- 1514 records are good from 1665.\n"
     ]
    }
   ],
   "source": [
    "# +---------------------+\n",
    "# | Luteal phase length |\n",
    "# +---------------------+\n",
    "\n",
    "\n",
    "\n",
    "clean_luteal_data = data[data['LengthofLutealPhase'] != ' ']\n",
    "clean_luteal_data['LengthofLutealPhase'] = pd.to_numeric(clean_luteal_data['LengthofLutealPhase'], downcast='unsigned')\n",
    "print('Luteal phase length between {} - {} days.'.format(clean_luteal_data['LengthofLutealPhase'].min(),\n",
    "                                                         clean_luteal_data['LengthofLutealPhase'].max()))\n",
    "print('--- {} records are good from {}.'.format(len(clean_luteal_data), len_data))"
   ]
  },
  {
   "cell_type": "code",
   "execution_count": 7,
   "id": "18e20d90",
   "metadata": {},
   "outputs": [
    {
     "name": "stdout",
     "output_type": "stream",
     "text": [
      "Estimated day of ovulation between 6 - 29 days.\n",
      "--- 1515 records are good from 1665.\n"
     ]
    }
   ],
   "source": [
    "# +-----------------+\n",
    "# | Ovulation's day |\n",
    "# +-----------------+\n",
    "\n",
    "\n",
    "\n",
    "clean_ovulation_data = data[data['EstimatedDayofOvulation'] != ' ']\n",
    "clean_ovulation_data['EstimatedDayofOvulation'] = pd.to_numeric(clean_ovulation_data['EstimatedDayofOvulation'], downcast='unsigned')\n",
    "print('Estimated day of ovulation between {} - {} days.'.format(clean_ovulation_data['EstimatedDayofOvulation'].min(),\n",
    "                                                                clean_ovulation_data['EstimatedDayofOvulation'].max()))\n",
    "print('--- {} records are good from {}.'.format(len(clean_ovulation_data), len_data))"
   ]
  },
  {
   "cell_type": "code",
   "execution_count": 8,
   "id": "8053e29b",
   "metadata": {},
   "outputs": [
    {
     "name": "stdout",
     "output_type": "stream",
     "text": [
      "Length of menses between 2 - 15 days.\n",
      "--- 1661 records are good from 1665.\n"
     ]
    }
   ],
   "source": [
    "# +------------------+\n",
    "# | Length of menses |\n",
    "# +------------------+\n",
    "\n",
    "\n",
    "clean_menses_data = data[data['LengthofMenses'] != ' ']\n",
    "clean_menses_data['LengthofMenses'] = pd.to_numeric(clean_menses_data['LengthofMenses'], downcast='unsigned')\n",
    "print('Length of menses between {} - {} days.'.format(clean_menses_data['LengthofMenses'].min(),\n",
    "                                                      clean_menses_data['LengthofMenses'].max()))\n",
    "print('--- {} records are good from {}.'.format(len(clean_menses_data), len_data))"
   ]
  },
  {
   "cell_type": "code",
   "execution_count": 9,
   "id": "1e2c97de",
   "metadata": {},
   "outputs": [
    {
     "name": "stdout",
     "output_type": "stream",
     "text": [
      "Age between 21 - 43 years.\n",
      "--- 142 records are good from 1665.\n",
      "138 patients have age value.\n"
     ]
    }
   ],
   "source": [
    "# +-----+\n",
    "# | Age |\n",
    "# +-----+\n",
    "\n",
    "\n",
    "clean_age_data = data[data['AgeM'] != ' ']\n",
    "clean_age_data['Age'] = pd.to_numeric(clean_age_data['Age'], downcast='unsigned')\n",
    "print('Age between {} - {} years.'.format(clean_age_data['Age'].min(),\n",
    "                                          clean_age_data['Age'].max()))\n",
    "print('--- {} records are good from {}.'.format(len(clean_age_data), len_data))\n",
    "age_of_patient = {}\n",
    "for id, row in clean_age_data[['ClientID', 'Age']].iterrows():\n",
    "    if row['ClientID'] not in age_of_patient.keys():\n",
    "        age_of_patient[row['ClientID']] = row['Age']\n",
    "    else:\n",
    "        if age_of_patient[row['ClientID']] != row['Age']:\n",
    "            print('[!] User {} has different age values old: {}, new {}.'.format(row['ClientID'],\n",
    "                                                                                 age_of_patient[row['ClientID']],\n",
    "                                                                                 row['Age']))\n",
    "print('{} patients have age value.'.format(len(age_of_patient)))"
   ]
  },
  {
   "cell_type": "code",
   "execution_count": 10,
   "id": "b7315f6e",
   "metadata": {},
   "outputs": [
    {
     "name": "stdout",
     "output_type": "stream",
     "text": [
      "-------------------------------\n",
      "<class 'pandas.core.frame.DataFrame'>\n",
      "Int64Index: 1512 entries, 0 to 1663\n",
      "Data columns (total 5 columns):\n",
      " #   Column                   Non-Null Count  Dtype \n",
      "---  ------                   --------------  ----- \n",
      " 0   ClientID                 1512 non-null   int64 \n",
      " 1   LengthofCycle            1512 non-null   int64 \n",
      " 2   LengthofLutealPhase      1512 non-null   object\n",
      " 3   LengthofMenses           1512 non-null   object\n",
      " 4   EstimatedDayofOvulation  1512 non-null   object\n",
      "dtypes: int64(2), object(3)\n",
      "memory usage: 70.9+ KB\n",
      "-------------------------------\n",
      "Count of records: 1512\n",
      "-------------------------------\n"
     ]
    }
   ],
   "source": [
    "#######################\n",
    "# Creating clean data #\n",
    "#######################\n",
    "\n",
    "\n",
    "clean_data = data[data['LengthofLutealPhase'] != ' ']\n",
    "clean_data = clean_data[clean_data['LengthofMenses'] != ' ']\n",
    "clean_data = clean_data[clean_data['EstimatedDayofOvulation'] != ' ']\n",
    "\n",
    "clean_data = clean_data[['ClientID', 'LengthofCycle', 'LengthofLutealPhase', 'LengthofMenses' , 'EstimatedDayofOvulation']]\n",
    "for i, key in enumerate(patient_data_row_counter.keys()):\n",
    "    clean_data = clean_data.replace(key, i)\n",
    "print('-------------------------------')\n",
    "clean_data.info()\n",
    "print('-------------------------------')\n",
    "print('Count of records: {}'.format(len(clean_data)))\n",
    "print('-------------------------------')\n",
    "clean_data.to_csv('clean_dataset.csv', sep=',', index=False)"
   ]
  },
  {
   "cell_type": "code",
   "execution_count": null,
   "id": "40e541fe",
   "metadata": {},
   "outputs": [],
   "source": []
  }
 ],
 "metadata": {
  "kernelspec": {
   "display_name": "Python 3 (ipykernel)",
   "language": "python",
   "name": "python3"
  },
  "language_info": {
   "codemirror_mode": {
    "name": "ipython",
    "version": 3
   },
   "file_extension": ".py",
   "mimetype": "text/x-python",
   "name": "python",
   "nbconvert_exporter": "python",
   "pygments_lexer": "ipython3",
   "version": "3.9.12"
  }
 },
 "nbformat": 4,
 "nbformat_minor": 5
}
